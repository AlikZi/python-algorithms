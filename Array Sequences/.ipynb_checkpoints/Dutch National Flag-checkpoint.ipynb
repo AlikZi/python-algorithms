{
 "cells": [
  {
   "cell_type": "code",
   "execution_count": 40,
   "metadata": {},
   "outputs": [],
   "source": [
    "def dutch_flag1(arr, k):\n",
    "    pivot = arr[k]\n",
    "    smaller = []\n",
    "    bigger = []\n",
    "    equal = []\n",
    "    for i in arr:\n",
    "        if arr[i] < pivot:\n",
    "            smaller.append(arr[i])\n",
    "        elif arr[i] > pivot:\n",
    "            bigger.append(arr[i])\n",
    "        else:\n",
    "            equal.append(arr[i])\n",
    "    arr_dutch = smaller + equal + bigger\n",
    "    return arr_dutch\n",
    "\n",
    "\n",
    "def dutch_flag(A, k):\n",
    "    pivot = A[k]\n",
    "    smaller, equal, larger = 0, 0, len(A)-1\n",
    "    \n",
    "    while equal < larger:\n",
    "        if A[equal] < pivot:\n",
    "            A[smaller] , A[equal] = A[equal], A[smaller]\n",
    "            smaller +=1\n",
    "            equal+=1\n",
    "        elif A[equal] == pivot:\n",
    "            equal +=1\n",
    "        else:\n",
    "            A[larger], A[equal] = A[equal], A[larger]\n",
    "            larger-=1\n",
    "    return A\n",
    "\n",
    "def dutch_boolean(A):\n",
    "    target = False\n",
    "    begin = 0\n",
    "    end = len(A) - 1\n",
    "    \n",
    "    while begin < end:\n",
    "        if A[begin] == False:\n",
    "            begin += 1\n",
    "        else:\n",
    "            A[begin], A[end] = A[end], A[begin]\n",
    "            end-=1\n",
    "            \n",
    "    return A\n",
    "\n",
    "def dutch_3keys(A, k):\n",
    "    pass"
   ]
  },
  {
   "cell_type": "code",
   "execution_count": 41,
   "metadata": {},
   "outputs": [
    {
     "data": {
      "text/plain": [
       "[False, False, False, True, True, True]"
      ]
     },
     "execution_count": 41,
     "metadata": {},
     "output_type": "execute_result"
    }
   ],
   "source": [
    "dutch_boolean([True, False, False, True, True, False])"
   ]
  },
  {
   "cell_type": "code",
   "execution_count": 42,
   "metadata": {},
   "outputs": [
    {
     "data": {
      "text/plain": [
       "[0, 0, 0, 1, 1, 2, 2, 1, 2]"
      ]
     },
     "execution_count": 42,
     "metadata": {},
     "output_type": "execute_result"
    }
   ],
   "source": [
    "dutch_flag([0,2,1,0,1,2,1,2,0], 2)"
   ]
  },
  {
   "cell_type": "code",
   "execution_count": 43,
   "metadata": {},
   "outputs": [
    {
     "data": {
      "text/plain": [
       "[0, 0, 0, 1, 1, 2, 2, 1, 2]"
      ]
     },
     "execution_count": 43,
     "metadata": {},
     "output_type": "execute_result"
    }
   ],
   "source": [
    "dutch_flag([0,2,1,0,1,2,1,2,0], 2)"
   ]
  },
  {
   "cell_type": "code",
   "execution_count": null,
   "metadata": {},
   "outputs": [],
   "source": []
  }
 ],
 "metadata": {
  "kernelspec": {
   "display_name": "Python 3",
   "language": "python",
   "name": "python3"
  },
  "language_info": {
   "codemirror_mode": {
    "name": "ipython",
    "version": 3
   },
   "file_extension": ".py",
   "mimetype": "text/x-python",
   "name": "python",
   "nbconvert_exporter": "python",
   "pygments_lexer": "ipython3",
   "version": "3.7.3"
  }
 },
 "nbformat": 4,
 "nbformat_minor": 2
}
