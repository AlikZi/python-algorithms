{
 "cells": [
  {
   "cell_type": "code",
   "execution_count": 30,
   "metadata": {},
   "outputs": [],
   "source": [
    "def convertToStr(x):\n",
    "    isNegative = False\n",
    "    if x < 0:\n",
    "        x, isNegative = -x, True\n",
    "        \n",
    "    s = []\n",
    "    \n",
    "    while True:\n",
    "        s.append(chr(ord('0') + x%10))\n",
    "        x //= 10\n",
    "        if x == 0:\n",
    "            break\n",
    "            \n",
    "    return (\"-\" if isNegative else \"\")+\"\".join(reversed(s))\n"
   ]
  },
  {
   "cell_type": "code",
   "execution_count": 32,
   "metadata": {},
   "outputs": [
    {
     "data": {
      "text/plain": [
       "'-356'"
      ]
     },
     "execution_count": 32,
     "metadata": {},
     "output_type": "execute_result"
    }
   ],
   "source": [
    "convertToStr(356)"
   ]
  },
  {
   "cell_type": "code",
   "execution_count": 42,
   "metadata": {},
   "outputs": [],
   "source": [
    "def replace_remove(arr):\n",
    "    r_arr = []\n",
    "    for letter in arr:\n",
    "        if letter == 'a':\n",
    "            r_arr.append('d')\n",
    "            r_arr.append('d')\n",
    "        elif letter == 'b':\n",
    "            continue\n",
    "        else:\n",
    "            r_arr.append(letter)\n",
    "    return r_arr\n",
    "           "
   ]
  },
  {
   "cell_type": "raw",
   "metadata": {},
   "source": [
    "replace_remove(['a','b','c','c','a','a','b'])"
   ]
  },
  {
   "cell_type": "code",
   "execution_count": 43,
   "metadata": {},
   "outputs": [
    {
     "data": {
      "text/plain": [
       "['d', 'd', 'c', 'c', 'd', 'd', 'd', 'd']"
      ]
     },
     "execution_count": 43,
     "metadata": {},
     "output_type": "execute_result"
    }
   ],
   "source": [
    "replace_remove(['a','b','c','c','a','a','b'])"
   ]
  },
  {
   "cell_type": "code",
   "execution_count": 53,
   "metadata": {},
   "outputs": [],
   "source": [
    "def replace_remove2(arr):\n",
    "    length = len(arr)\n",
    "    for letter in arr:\n",
    "        if letter == 'a':\n",
    "            length+=1\n",
    "        elif letter == 'b':\n",
    "            length-=1\n",
    "            \n",
    "    return length"
   ]
  },
  {
   "cell_type": "code",
   "execution_count": 55,
   "metadata": {},
   "outputs": [
    {
     "data": {
      "text/plain": [
       "8"
      ]
     },
     "execution_count": 55,
     "metadata": {},
     "output_type": "execute_result"
    }
   ],
   "source": [
    "replace_remove2(['a','c','c','a','a','b','b', 'b'])"
   ]
  },
  {
   "cell_type": "code",
   "execution_count": 90,
   "metadata": {},
   "outputs": [],
   "source": [
    "def isPalindromic(S):\n",
    "    S = S.lower()\n",
    "    i, j = 0, len(S)-1\n",
    "    \n",
    "    while i < j:\n",
    "        while not S[i].isalnum() and i<j:\n",
    "            i+=1\n",
    "        while not S[j].isalnum() and i<j:\n",
    "            j-=1\n",
    "            \n",
    "        if S[i]!=S[j]:\n",
    "            return False\n",
    "        \n",
    "        i, j = i+1, j-1\n",
    "    \n",
    "    return True"
   ]
  },
  {
   "cell_type": "code",
   "execution_count": 93,
   "metadata": {},
   "outputs": [
    {
     "data": {
      "text/plain": [
       "True"
      ]
     },
     "execution_count": 93,
     "metadata": {},
     "output_type": "execute_result"
    }
   ],
   "source": [
    "isPalindromic('Able was I, ere I saw Elba!')"
   ]
  },
  {
   "cell_type": "code",
   "execution_count": 103,
   "metadata": {},
   "outputs": [],
   "source": [
    "def reverseWords(S):\n",
    "    words = S.split(\" \")\n",
    "    r_s = []\n",
    "    for i in range(len(words)-1, -1, -1):\n",
    "        r_s.append(words[i])\n",
    "        \n",
    "    return \" \".join(r_s)"
   ]
  },
  {
   "cell_type": "code",
   "execution_count": 104,
   "metadata": {},
   "outputs": [
    {
     "data": {
      "text/plain": [
       "'Play to Go will I'"
      ]
     },
     "execution_count": 104,
     "metadata": {},
     "output_type": "execute_result"
    }
   ],
   "source": [
    "reverseWords('I will Go to Play')"
   ]
  },
  {
   "cell_type": "code",
   "execution_count": 105,
   "metadata": {},
   "outputs": [],
   "source": [
    "def reverseString(s, start, finish):\n",
    "    while start < finish:\n",
    "        s[start], s[finish] = s[finish], s[start]\n",
    "        start, finish = start + 1, finish -1\n",
    "        \n",
    "    return s"
   ]
  },
  {
   "cell_type": "code",
   "execution_count": 108,
   "metadata": {},
   "outputs": [
    {
     "data": {
      "text/plain": [
       "['d', 'o', 'o', 'f', ' ', 'e', 'v', 'o', 'l', ' ', 'i']"
      ]
     },
     "execution_count": 108,
     "metadata": {},
     "output_type": "execute_result"
    }
   ],
   "source": [
    "reverseString(list('i love food'), 0, len(list('i love food'))-1)"
   ]
  },
  {
   "cell_type": "code",
   "execution_count": 146,
   "metadata": {},
   "outputs": [
    {
     "data": {
      "text/plain": [
       "'9'"
      ]
     },
     "execution_count": 146,
     "metadata": {},
     "output_type": "execute_result"
    }
   ],
   "source": [
    "\"19216811\"[1:1+1]"
   ]
  },
  {
   "cell_type": "code",
   "execution_count": 155,
   "metadata": {},
   "outputs": [],
   "source": [
    "def get_valid_ip(st):\n",
    "    def is_valid_part(s):\n",
    "        return len(s) == 1 or (s[0]!=0 and int(s)<=255)\n",
    "    \n",
    "    results, parts = [], ['']*4\n",
    "    \n",
    "    for i in range(1, min(4, len(st)-2)):\n",
    "        parts[0]=st[:i]\n",
    "        if is_valid_part(parts[0]):\n",
    "            for j in range(1, min(4, len(st)-i)):\n",
    "                parts[1] = st[i: i + j]\n",
    "                if is_valid_part(parts[1]):\n",
    "                    for k in range(1, min(4, len(st)-i-j)):\n",
    "                        parts[2], parts[3] = st[i+j:i+j+k], st[i+j+k:]\n",
    "                        if is_valid_part(parts[2]) and is_valid_part(parts[3]):\n",
    "                            results.append('.'.join(parts))\n",
    "        \n",
    "    return results"
   ]
  },
  {
   "cell_type": "code",
   "execution_count": 158,
   "metadata": {},
   "outputs": [
    {
     "data": {
      "text/plain": [
       "['1.1.1.11', '1.1.11.1', '1.11.1.1', '11.1.1.1']"
      ]
     },
     "execution_count": 158,
     "metadata": {},
     "output_type": "execute_result"
    }
   ],
   "source": [
    "get_valid_ip('11111')"
   ]
  },
  {
   "cell_type": "code",
   "execution_count": null,
   "metadata": {},
   "outputs": [],
   "source": []
  }
 ],
 "metadata": {
  "kernelspec": {
   "display_name": "Python 3",
   "language": "python",
   "name": "python3"
  },
  "language_info": {
   "codemirror_mode": {
    "name": "ipython",
    "version": 3
   },
   "file_extension": ".py",
   "mimetype": "text/x-python",
   "name": "python",
   "nbconvert_exporter": "python",
   "pygments_lexer": "ipython3",
   "version": "3.7.3"
  }
 },
 "nbformat": 4,
 "nbformat_minor": 2
}
