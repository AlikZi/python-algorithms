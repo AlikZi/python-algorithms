{
 "cells": [
  {
   "cell_type": "code",
   "execution_count": 22,
   "metadata": {},
   "outputs": [],
   "source": [
    "def plus_one(A):\n",
    "    A[-1]+=1\n",
    "    \n",
    "    for i in reversed(range(1, len(A))):\n",
    "        if A[i]!= 10:\n",
    "            break\n",
    "        A[i]=0\n",
    "        A[i-1]+=1\n",
    "    if A[0] == 10:\n",
    "        A[0] = 1\n",
    "        A.append(0)\n",
    "        \n",
    "    return A"
   ]
  },
  {
   "cell_type": "code",
   "execution_count": 57,
   "metadata": {},
   "outputs": [
    {
     "data": {
      "text/plain": [
       "[2, 0, 0]"
      ]
     },
     "execution_count": 57,
     "metadata": {},
     "output_type": "execute_result"
    }
   ],
   "source": [
    "plus_one([1,9,9])"
   ]
  },
  {
   "cell_type": "code",
   "execution_count": 68,
   "metadata": {},
   "outputs": [],
   "source": [
    "def delete_duplicates1(A):\n",
    "    unique = []\n",
    "    unique.append(A[0])\n",
    "    uni = A[0]\n",
    "    for i in range(1, len(A)):\n",
    "        if A[i]!=uni:\n",
    "            unique.append(A[i])\n",
    "            uni = A[i]\n",
    "            \n",
    "    return unique\n",
    "\n",
    "def delete_dup(A):\n",
    "    uniques = 1\n",
    "    \n",
    "    for i in range(1, len(A)):\n",
    "        if A[i] != A[i-1]:\n",
    "            uniques+=1\n",
    "            \n",
    "    return uniques"
   ]
  },
  {
   "cell_type": "code",
   "execution_count": 69,
   "metadata": {},
   "outputs": [
    {
     "data": {
      "text/plain": [
       "4"
      ]
     },
     "execution_count": 69,
     "metadata": {},
     "output_type": "execute_result"
    }
   ],
   "source": [
    "delete_dup([1,1,1,1,4,5,6,6,6,6])"
   ]
  },
  {
   "cell_type": "code",
   "execution_count": 70,
   "metadata": {},
   "outputs": [
    {
     "data": {
      "text/plain": [
       "3"
      ]
     },
     "execution_count": 70,
     "metadata": {},
     "output_type": "execute_result"
    }
   ],
   "source": [
    "delete_dup([1,3,3,4])"
   ]
  },
  {
   "cell_type": "code",
   "execution_count": 71,
   "metadata": {},
   "outputs": [],
   "source": [
    "def buy_sell_stock(A):\n",
    "    min_price, max_profit = A[0], 0\n",
    "    for price in A:\n",
    "        max_profit_sell_today = price - min_price\n",
    "        max_profit= max(max_profit_sell_today, max_profit)\n",
    "        min_price = min(price, min_price)\n",
    "        \n",
    "    return max_profit"
   ]
  },
  {
   "cell_type": "code",
   "execution_count": 72,
   "metadata": {},
   "outputs": [
    {
     "data": {
      "text/plain": [
       "30"
      ]
     },
     "execution_count": 72,
     "metadata": {},
     "output_type": "execute_result"
    }
   ],
   "source": [
    "buy_sell_stock([310, 315, 275, 295, 260, 270, 290, 230, 255, 250])"
   ]
  },
  {
   "cell_type": "code",
   "execution_count": null,
   "metadata": {},
   "outputs": [],
   "source": []
  }
 ],
 "metadata": {
  "kernelspec": {
   "display_name": "Python 3",
   "language": "python",
   "name": "python3"
  },
  "language_info": {
   "codemirror_mode": {
    "name": "ipython",
    "version": 3
   },
   "file_extension": ".py",
   "mimetype": "text/x-python",
   "name": "python",
   "nbconvert_exporter": "python",
   "pygments_lexer": "ipython3",
   "version": "3.7.3"
  }
 },
 "nbformat": 4,
 "nbformat_minor": 2
}
